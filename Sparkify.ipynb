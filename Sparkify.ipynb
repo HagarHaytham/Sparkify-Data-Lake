{
 "cells": [
  {
   "cell_type": "code",
   "execution_count": 1,
   "id": "247d0ab7-115e-4ef1-918b-fea68420bf23",
   "metadata": {
    "execution": {
     "iopub.execute_input": "2022-09-27T11:17:29.444850Z",
     "iopub.status.busy": "2022-09-27T11:17:29.444075Z",
     "iopub.status.idle": "2022-09-27T11:18:06.041591Z",
     "shell.execute_reply": "2022-09-27T11:18:06.040725Z",
     "shell.execute_reply.started": "2022-09-27T11:17:29.444814Z"
    },
    "tags": []
   },
   "outputs": [
    {
     "data": {
      "application/vnd.jupyter.widget-view+json": {
       "model_id": "556d60f0b8f8467aa466d657e180bd0a",
       "version_major": 2,
       "version_minor": 0
      },
      "text/plain": [
       "VBox()"
      ]
     },
     "metadata": {},
     "output_type": "display_data"
    },
    {
     "name": "stdout",
     "output_type": "stream",
     "text": [
      "Starting Spark application\n"
     ]
    },
    {
     "data": {
      "text/html": [
       "<table>\n",
       "<tr><th>ID</th><th>YARN Application ID</th><th>Kind</th><th>State</th><th>Spark UI</th><th>Driver log</th><th>Current session?</th></tr><tr><td>0</td><td>application_1664277218219_0001</td><td>pyspark</td><td>idle</td><td><a target=\"_blank\" href=\"http://ip-172-31-54-66.ec2.internal:20888/proxy/application_1664277218219_0001/\">Link</a></td><td><a target=\"_blank\" href=\"http://ip-172-31-49-162.ec2.internal:8042/node/containerlogs/container_1664277218219_0001_01_000001/livy\">Link</a></td><td>✔</td></tr></table>"
      ],
      "text/plain": [
       "<IPython.core.display.HTML object>"
      ]
     },
     "metadata": {},
     "output_type": "display_data"
    },
    {
     "data": {
      "application/vnd.jupyter.widget-view+json": {
       "model_id": "",
       "version_major": 2,
       "version_minor": 0
      },
      "text/plain": [
       "FloatProgress(value=0.0, bar_style='info', description='Progress:', layout=Layout(height='25px', width='50%'),…"
      ]
     },
     "metadata": {},
     "output_type": "display_data"
    },
    {
     "name": "stdout",
     "output_type": "stream",
     "text": [
      "SparkSession available as 'spark'.\n"
     ]
    },
    {
     "data": {
      "application/vnd.jupyter.widget-view+json": {
       "model_id": "",
       "version_major": 2,
       "version_minor": 0
      },
      "text/plain": [
       "FloatProgress(value=0.0, bar_style='info', description='Progress:', layout=Layout(height='25px', width='50%'),…"
      ]
     },
     "metadata": {},
     "output_type": "display_data"
    }
   ],
   "source": [
    "# from pyspark.sql import SparkSession\n",
    "from datetime import datetime\n",
    "from pyspark.sql.functions import udf, col\n",
    "from pyspark.sql.functions import year, month, dayofmonth, hour, weekofyear, date_format"
   ]
  },
  {
   "cell_type": "markdown",
   "id": "ee6c4ba0-828a-444c-9b63-e7ec63e6b494",
   "metadata": {},
   "source": [
    "# Load data from s3 buckets"
   ]
  },
  {
   "cell_type": "code",
   "execution_count": 2,
   "id": "1ad5c025-38b1-4fed-bf9a-b0d254f7e271",
   "metadata": {
    "execution": {
     "iopub.execute_input": "2022-09-27T11:18:06.048053Z",
     "iopub.status.busy": "2022-09-27T11:18:06.045650Z",
     "iopub.status.idle": "2022-09-27T11:18:06.346631Z",
     "shell.execute_reply": "2022-09-27T11:18:06.345734Z",
     "shell.execute_reply.started": "2022-09-27T11:18:06.048018Z"
    },
    "tags": []
   },
   "outputs": [
    {
     "data": {
      "application/vnd.jupyter.widget-view+json": {
       "model_id": "da6261e20d3b4391906ede64cc9ba1a2",
       "version_major": 2,
       "version_minor": 0
      },
      "text/plain": [
       "VBox()"
      ]
     },
     "metadata": {},
     "output_type": "display_data"
    },
    {
     "data": {
      "application/vnd.jupyter.widget-view+json": {
       "model_id": "",
       "version_major": 2,
       "version_minor": 0
      },
      "text/plain": [
       "FloatProgress(value=0.0, bar_style='info', description='Progress:', layout=Layout(height='25px', width='50%'),…"
      ]
     },
     "metadata": {},
     "output_type": "display_data"
    }
   ],
   "source": [
    "input_data = \"s3a://udacity-dend/\"\n",
    "output_data = \"s3://my-sparkify123/sparkify/\"\n",
    "log_data = input_data +\"log_data/*/*/*.json\"\n",
    "song_data = input_data+\"song_data/*/*/*/*.json\""
   ]
  },
  {
   "cell_type": "code",
   "execution_count": 3,
   "id": "24fcc767-fb56-494d-a385-47b92838d00a",
   "metadata": {
    "execution": {
     "iopub.execute_input": "2022-09-27T11:18:06.353667Z",
     "iopub.status.busy": "2022-09-27T11:18:06.351147Z",
     "iopub.status.idle": "2022-09-27T11:30:38.053089Z",
     "shell.execute_reply": "2022-09-27T11:30:38.052203Z",
     "shell.execute_reply.started": "2022-09-27T11:18:06.353625Z"
    },
    "tags": []
   },
   "outputs": [
    {
     "data": {
      "application/vnd.jupyter.widget-view+json": {
       "model_id": "55a6b8f27ff94616a5d0a08e2a711061",
       "version_major": 2,
       "version_minor": 0
      },
      "text/plain": [
       "VBox()"
      ]
     },
     "metadata": {},
     "output_type": "display_data"
    },
    {
     "data": {
      "application/vnd.jupyter.widget-view+json": {
       "model_id": "",
       "version_major": 2,
       "version_minor": 0
      },
      "text/plain": [
       "FloatProgress(value=0.0, bar_style='info', description='Progress:', layout=Layout(height='25px', width='50%'),…"
      ]
     },
     "metadata": {},
     "output_type": "display_data"
    },
    {
     "name": "stdout",
     "output_type": "stream",
     "text": [
      "root\n",
      " |-- artist_id: string (nullable = true)\n",
      " |-- artist_latitude: double (nullable = true)\n",
      " |-- artist_location: string (nullable = true)\n",
      " |-- artist_longitude: double (nullable = true)\n",
      " |-- artist_name: string (nullable = true)\n",
      " |-- duration: double (nullable = true)\n",
      " |-- num_songs: long (nullable = true)\n",
      " |-- song_id: string (nullable = true)\n",
      " |-- title: string (nullable = true)\n",
      " |-- year: long (nullable = true)"
     ]
    }
   ],
   "source": [
    "dfSong = spark.read.json(song_data)\n",
    "dfSong.printSchema()\n",
    "dfSong.createOrReplaceTempView(\"stagingsongs\")"
   ]
  },
  {
   "cell_type": "code",
   "execution_count": 4,
   "id": "c8c6680a-87fc-45b5-8197-198a4d6a6075",
   "metadata": {
    "execution": {
     "iopub.execute_input": "2022-09-27T11:30:38.064857Z",
     "iopub.status.busy": "2022-09-27T11:30:38.054683Z",
     "iopub.status.idle": "2022-09-27T11:30:40.641966Z",
     "shell.execute_reply": "2022-09-27T11:30:40.641114Z",
     "shell.execute_reply.started": "2022-09-27T11:30:38.064818Z"
    },
    "tags": []
   },
   "outputs": [
    {
     "data": {
      "application/vnd.jupyter.widget-view+json": {
       "model_id": "9adf5dc51fa04b4aafe7e664dcc80c54",
       "version_major": 2,
       "version_minor": 0
      },
      "text/plain": [
       "VBox()"
      ]
     },
     "metadata": {},
     "output_type": "display_data"
    },
    {
     "data": {
      "application/vnd.jupyter.widget-view+json": {
       "model_id": "",
       "version_major": 2,
       "version_minor": 0
      },
      "text/plain": [
       "FloatProgress(value=0.0, bar_style='info', description='Progress:', layout=Layout(height='25px', width='50%'),…"
      ]
     },
     "metadata": {},
     "output_type": "display_data"
    },
    {
     "name": "stdout",
     "output_type": "stream",
     "text": [
      "[Row(artist_id='AR4T2IF1187B9ADBB7', artist_latitude=63.96027, artist_location='<a href=\"http://billyidol.net\" onmousedown=\\'UntrustedLink.bootstrap($(this), \"fc44f8f60d13ab68c56b3c6709c6d670\", event)\\' target=\"_blank\" rel=\"nofollow\">http://billyidol.net</a>', artist_longitude=10.22442, artist_name='Billy Idol', duration=233.22077, num_songs=1, song_id='SOVIYJY12AF72A4B00', title='The Dead Next Door (Digitally Remastered 99)', year=1983)]"
     ]
    }
   ],
   "source": [
    "dfSong.head(1)"
   ]
  },
  {
   "cell_type": "code",
   "execution_count": 5,
   "id": "2502bfb4-3c5d-425f-b638-b916f2114373",
   "metadata": {
    "execution": {
     "iopub.execute_input": "2022-09-27T11:30:40.643746Z",
     "iopub.status.busy": "2022-09-27T11:30:40.643179Z",
     "iopub.status.idle": "2022-09-27T11:30:50.508074Z",
     "shell.execute_reply": "2022-09-27T11:30:50.507146Z",
     "shell.execute_reply.started": "2022-09-27T11:30:40.643713Z"
    },
    "tags": []
   },
   "outputs": [
    {
     "data": {
      "application/vnd.jupyter.widget-view+json": {
       "model_id": "552a3131dbb048e6a58a966e379c6f0e",
       "version_major": 2,
       "version_minor": 0
      },
      "text/plain": [
       "VBox()"
      ]
     },
     "metadata": {},
     "output_type": "display_data"
    },
    {
     "data": {
      "application/vnd.jupyter.widget-view+json": {
       "model_id": "",
       "version_major": 2,
       "version_minor": 0
      },
      "text/plain": [
       "FloatProgress(value=0.0, bar_style='info', description='Progress:', layout=Layout(height='25px', width='50%'),…"
      ]
     },
     "metadata": {},
     "output_type": "display_data"
    },
    {
     "name": "stdout",
     "output_type": "stream",
     "text": [
      "root\n",
      " |-- artist: string (nullable = true)\n",
      " |-- auth: string (nullable = true)\n",
      " |-- firstName: string (nullable = true)\n",
      " |-- gender: string (nullable = true)\n",
      " |-- itemInSession: long (nullable = true)\n",
      " |-- lastName: string (nullable = true)\n",
      " |-- length: double (nullable = true)\n",
      " |-- level: string (nullable = true)\n",
      " |-- location: string (nullable = true)\n",
      " |-- method: string (nullable = true)\n",
      " |-- page: string (nullable = true)\n",
      " |-- registration: double (nullable = true)\n",
      " |-- sessionId: long (nullable = true)\n",
      " |-- song: string (nullable = true)\n",
      " |-- status: long (nullable = true)\n",
      " |-- ts: long (nullable = true)\n",
      " |-- userAgent: string (nullable = true)\n",
      " |-- userId: string (nullable = true)"
     ]
    }
   ],
   "source": [
    "dfLog = spark.read.json(log_data)\n",
    "dfLog.printSchema()\n",
    "dfLog.createOrReplaceTempView(\"stagingevents\")"
   ]
  },
  {
   "cell_type": "code",
   "execution_count": 6,
   "id": "2df44c1a-38a6-4ab9-b7ca-ae9288b6749a",
   "metadata": {
    "execution": {
     "iopub.execute_input": "2022-09-27T11:30:50.511920Z",
     "iopub.status.busy": "2022-09-27T11:30:50.509423Z",
     "iopub.status.idle": "2022-09-27T11:30:51.567218Z",
     "shell.execute_reply": "2022-09-27T11:30:51.566358Z",
     "shell.execute_reply.started": "2022-09-27T11:30:50.511885Z"
    },
    "tags": []
   },
   "outputs": [
    {
     "data": {
      "application/vnd.jupyter.widget-view+json": {
       "model_id": "e222c244de204a82b83e0f2a22750a67",
       "version_major": 2,
       "version_minor": 0
      },
      "text/plain": [
       "VBox()"
      ]
     },
     "metadata": {},
     "output_type": "display_data"
    },
    {
     "data": {
      "application/vnd.jupyter.widget-view+json": {
       "model_id": "",
       "version_major": 2,
       "version_minor": 0
      },
      "text/plain": [
       "FloatProgress(value=0.0, bar_style='info', description='Progress:', layout=Layout(height='25px', width='50%'),…"
      ]
     },
     "metadata": {},
     "output_type": "display_data"
    },
    {
     "name": "stdout",
     "output_type": "stream",
     "text": [
      "[Row(artist='Harmonia', auth='Logged In', firstName='Ryan', gender='M', itemInSession=0, lastName='Smith', length=655.77751, level='free', location='San Jose-Sunnyvale-Santa Clara, CA', method='PUT', page='NextSong', registration=1541016707796.0, sessionId=583, song='Sehr kosmisch', status=200, ts=1542241826796, userAgent='\"Mozilla/5.0 (X11; Linux x86_64) AppleWebKit/537.36 (KHTML, like Gecko) Ubuntu Chromium/36.0.1985.125 Chrome/36.0.1985.125 Safari/537.36\"', userId='26')]"
     ]
    }
   ],
   "source": [
    "dfLog.head(1)"
   ]
  },
  {
   "cell_type": "markdown",
   "id": "4aa24e63-72ad-4666-a195-ea4fda2020b9",
   "metadata": {},
   "source": [
    "# Create Songs Table"
   ]
  },
  {
   "cell_type": "code",
   "execution_count": 4,
   "id": "3c2b8ab4-d773-4b71-a847-de6d1d0b004e",
   "metadata": {
    "execution": {
     "iopub.execute_input": "2022-09-27T09:55:38.717150Z",
     "iopub.status.busy": "2022-09-27T09:55:38.716375Z",
     "iopub.status.idle": "2022-09-27T09:59:25.525906Z",
     "shell.execute_reply": "2022-09-27T09:59:25.525044Z",
     "shell.execute_reply.started": "2022-09-27T09:55:38.717112Z"
    },
    "tags": []
   },
   "outputs": [
    {
     "data": {
      "application/vnd.jupyter.widget-view+json": {
       "model_id": "01fea3124930463abac35a20cefaf784",
       "version_major": 2,
       "version_minor": 0
      },
      "text/plain": [
       "VBox()"
      ]
     },
     "metadata": {},
     "output_type": "display_data"
    },
    {
     "data": {
      "application/vnd.jupyter.widget-view+json": {
       "model_id": "",
       "version_major": 2,
       "version_minor": 0
      },
      "text/plain": [
       "FloatProgress(value=0.0, bar_style='info', description='Progress:', layout=Layout(height='25px', width='50%'),…"
      ]
     },
     "metadata": {},
     "output_type": "display_data"
    },
    {
     "name": "stdout",
     "output_type": "stream",
     "text": [
      "root\n",
      " |-- song_id: string (nullable = true)\n",
      " |-- title: string (nullable = true)\n",
      " |-- artist_id: string (nullable = true)\n",
      " |-- year: long (nullable = true)\n",
      " |-- duration: double (nullable = true)\n",
      "\n",
      "[Row(song_id='SOLLALT12A8C1399F3', title='Piano Concerto No.2 In F Major Op.102 (1957) : III Allegro', artist_id='ARWMEJW11F4C83C123', year=0, duration=319.37261)]"
     ]
    }
   ],
   "source": [
    "songs_table = spark.sql(\"\"\" SELECT  DISTINCT song_id,\n",
    "                                             title,\n",
    "                                             artist_id,\n",
    "                                             year,\n",
    "                                             duration\n",
    "                            FROM stagingsongs\n",
    "                            WHERE song_id IS NOT NULL\n",
    "                        \"\"\")  \n",
    "songs_table.printSchema()\n",
    "songs_table.head(1)"
   ]
  },
  {
   "cell_type": "code",
   "execution_count": 5,
   "id": "b5851a3c-585b-4565-945f-b912f05830df",
   "metadata": {
    "execution": {
     "iopub.execute_input": "2022-09-27T10:02:50.841728Z",
     "iopub.status.busy": "2022-09-27T10:02:50.840997Z",
     "iopub.status.idle": "2022-09-27T10:13:57.646770Z",
     "shell.execute_reply": "2022-09-27T10:13:57.645841Z",
     "shell.execute_reply.started": "2022-09-27T10:02:50.841692Z"
    },
    "tags": []
   },
   "outputs": [
    {
     "data": {
      "application/vnd.jupyter.widget-view+json": {
       "model_id": "0fc50714a9514921a67f1ca090a443b4",
       "version_major": 2,
       "version_minor": 0
      },
      "text/plain": [
       "VBox()"
      ]
     },
     "metadata": {},
     "output_type": "display_data"
    },
    {
     "data": {
      "application/vnd.jupyter.widget-view+json": {
       "model_id": "",
       "version_major": 2,
       "version_minor": 0
      },
      "text/plain": [
       "FloatProgress(value=0.0, bar_style='info', description='Progress:', layout=Layout(height='25px', width='50%'),…"
      ]
     },
     "metadata": {},
     "output_type": "display_data"
    }
   ],
   "source": [
    "songs_table.write.partitionBy(\"year\",\"artist_id\").parquet(output_data + \"songs.parquet\")"
   ]
  },
  {
   "cell_type": "markdown",
   "id": "b901d019-d806-4d66-9d75-278f8c5a2336",
   "metadata": {
    "tags": []
   },
   "source": [
    "# Create Artists Table"
   ]
  },
  {
   "cell_type": "code",
   "execution_count": 6,
   "id": "b309f369-480b-46df-99ab-15d796f7c264",
   "metadata": {
    "execution": {
     "iopub.execute_input": "2022-09-27T10:13:57.652525Z",
     "iopub.status.busy": "2022-09-27T10:13:57.650146Z",
     "iopub.status.idle": "2022-09-27T10:17:50.586980Z",
     "shell.execute_reply": "2022-09-27T10:17:50.586127Z",
     "shell.execute_reply.started": "2022-09-27T10:13:57.652488Z"
    },
    "tags": []
   },
   "outputs": [
    {
     "data": {
      "application/vnd.jupyter.widget-view+json": {
       "model_id": "45acf040951e4730bc9c0b43f774ccfd",
       "version_major": 2,
       "version_minor": 0
      },
      "text/plain": [
       "VBox()"
      ]
     },
     "metadata": {},
     "output_type": "display_data"
    },
    {
     "data": {
      "application/vnd.jupyter.widget-view+json": {
       "model_id": "",
       "version_major": 2,
       "version_minor": 0
      },
      "text/plain": [
       "FloatProgress(value=0.0, bar_style='info', description='Progress:', layout=Layout(height='25px', width='50%'),…"
      ]
     },
     "metadata": {},
     "output_type": "display_data"
    },
    {
     "name": "stdout",
     "output_type": "stream",
     "text": [
      "root\n",
      " |-- artist_id: string (nullable = true)\n",
      " |-- name: string (nullable = true)\n",
      " |-- location: string (nullable = true)\n",
      " |-- latitude: double (nullable = true)\n",
      " |-- longitude: double (nullable = true)\n",
      "\n",
      "[Row(artist_id='AR7DQY51187B9B2D88', name='Chingo Bling w/ Baby Bash', location='Texas', latitude=31.1689, longitude=-100.07715), Row(artist_id='AROOKC21187B9AE85C', name='Missy Higgins', location='Melbourne, Australia', latitude=-37.81753, longitude=144.96715), Row(artist_id='AR4YSKY1187B9A2B88', name='Kind of Like Spitting', location='Portland, OR', latitude=45.51179, longitude=-122.67563), Row(artist_id='ARB57BN1187B9B5EAF', name='36 Crazyfists', location='Anchorage, AK', latitude=61.21756, longitude=-149.85776), Row(artist_id='AR9DO2O1187FB53637', name='ColdWorld', location='Germany (Erfurt, Thuringia)', latitude=50.97768, longitude=11.02307)]"
     ]
    }
   ],
   "source": [
    "artists_table = spark.sql(\"\"\"\n",
    "                                SELECT  DISTINCT artist_id AS artist_id,\n",
    "                                        artist_name As name,\n",
    "                                        artist_location AS location,\n",
    "                                        artist_latitude AS latitude,\n",
    "                                        artist_longitude AS longitude\n",
    "                                FROM stagingsongs\n",
    "                                WHERE artist_id IS NOT NULL   \n",
    "                          \"\"\")\n",
    "artists_table.printSchema()\n",
    "artists_table.head(5)"
   ]
  },
  {
   "cell_type": "code",
   "execution_count": 7,
   "id": "f0a88e8b-dd52-4179-b5d7-e01b0d7a92a5",
   "metadata": {
    "execution": {
     "iopub.execute_input": "2022-09-27T10:17:50.591816Z",
     "iopub.status.busy": "2022-09-27T10:17:50.589407Z",
     "iopub.status.idle": "2022-09-27T10:21:47.635639Z",
     "shell.execute_reply": "2022-09-27T10:21:47.634732Z",
     "shell.execute_reply.started": "2022-09-27T10:17:50.591780Z"
    },
    "tags": []
   },
   "outputs": [
    {
     "data": {
      "application/vnd.jupyter.widget-view+json": {
       "model_id": "7fe04c05888d4d53828133e8a238220c",
       "version_major": 2,
       "version_minor": 0
      },
      "text/plain": [
       "VBox()"
      ]
     },
     "metadata": {},
     "output_type": "display_data"
    },
    {
     "data": {
      "application/vnd.jupyter.widget-view+json": {
       "model_id": "",
       "version_major": 2,
       "version_minor": 0
      },
      "text/plain": [
       "FloatProgress(value=0.0, bar_style='info', description='Progress:', layout=Layout(height='25px', width='50%'),…"
      ]
     },
     "metadata": {},
     "output_type": "display_data"
    }
   ],
   "source": [
    "artists_table.write.parquet(output_data + \"artists.parquet\")"
   ]
  },
  {
   "cell_type": "markdown",
   "id": "28bbd350-ff19-4fca-95a4-b298162202cd",
   "metadata": {
    "tags": []
   },
   "source": [
    "# Create Users Table"
   ]
  },
  {
   "cell_type": "code",
   "execution_count": 9,
   "id": "2878d292-bb5f-4896-9d1c-7213f3e08cd7",
   "metadata": {
    "execution": {
     "iopub.execute_input": "2022-09-27T10:21:57.413652Z",
     "iopub.status.busy": "2022-09-27T10:21:57.413377Z",
     "iopub.status.idle": "2022-09-27T10:22:00.295150Z",
     "shell.execute_reply": "2022-09-27T10:22:00.290529Z",
     "shell.execute_reply.started": "2022-09-27T10:21:57.413621Z"
    },
    "tags": []
   },
   "outputs": [
    {
     "data": {
      "application/vnd.jupyter.widget-view+json": {
       "model_id": "0edc4f18da7e4a2d82ea0071173ccc4c",
       "version_major": 2,
       "version_minor": 0
      },
      "text/plain": [
       "VBox()"
      ]
     },
     "metadata": {},
     "output_type": "display_data"
    },
    {
     "data": {
      "application/vnd.jupyter.widget-view+json": {
       "model_id": "",
       "version_major": 2,
       "version_minor": 0
      },
      "text/plain": [
       "FloatProgress(value=0.0, bar_style='info', description='Progress:', layout=Layout(height='25px', width='50%'),…"
      ]
     },
     "metadata": {},
     "output_type": "display_data"
    },
    {
     "name": "stdout",
     "output_type": "stream",
     "text": [
      "root\n",
      " |-- user_id: string (nullable = true)\n",
      " |-- first_name: string (nullable = true)\n",
      " |-- last_name: string (nullable = true)\n",
      " |-- gender: string (nullable = true)\n",
      " |-- level: string (nullable = true)\n",
      "\n",
      "[Row(user_id='98', first_name='Jordyn', last_name='Powell', gender='F', level='free'), Row(user_id='34', first_name='Evelin', last_name='Ayala', gender='F', level='free'), Row(user_id='85', first_name='Kinsley', last_name='Young', gender='F', level='paid'), Row(user_id='38', first_name='Gianna', last_name='Jones', gender='F', level='free'), Row(user_id='85', first_name='Kinsley', last_name='Young', gender='F', level='free')]"
     ]
    }
   ],
   "source": [
    "users_table = spark.sql(\"\"\"\n",
    "                            SELECT  DISTINCT userId AS user_id,\n",
    "                                    firstName AS first_name,\n",
    "                                    lastName AS last_name,\n",
    "                                    gender AS gender,\n",
    "                                    level AS level\n",
    "                            FROM stagingevents\n",
    "                            WHERE userId IS NOT NULL\n",
    "                            AND page = 'NextSong'\n",
    "                            \"\"\")\n",
    "users_table.printSchema()\n",
    "users_table.head(5)"
   ]
  },
  {
   "cell_type": "code",
   "execution_count": 11,
   "id": "bb121ff8-6ec7-4b83-826e-e64d84e4e91b",
   "metadata": {
    "execution": {
     "iopub.execute_input": "2022-09-27T10:31:37.927613Z",
     "iopub.status.busy": "2022-09-27T10:31:37.926848Z",
     "iopub.status.idle": "2022-09-27T10:32:05.917815Z",
     "shell.execute_reply": "2022-09-27T10:32:05.916946Z",
     "shell.execute_reply.started": "2022-09-27T10:31:37.927576Z"
    },
    "tags": []
   },
   "outputs": [
    {
     "data": {
      "application/vnd.jupyter.widget-view+json": {
       "model_id": "1170623cc9a546f589513932451491ca",
       "version_major": 2,
       "version_minor": 0
      },
      "text/plain": [
       "VBox()"
      ]
     },
     "metadata": {},
     "output_type": "display_data"
    },
    {
     "data": {
      "application/vnd.jupyter.widget-view+json": {
       "model_id": "",
       "version_major": 2,
       "version_minor": 0
      },
      "text/plain": [
       "FloatProgress(value=0.0, bar_style='info', description='Progress:', layout=Layout(height='25px', width='50%'),…"
      ]
     },
     "metadata": {},
     "output_type": "display_data"
    }
   ],
   "source": [
    "users_table.write.parquet( output_data + \"users.parquet\")"
   ]
  },
  {
   "cell_type": "markdown",
   "id": "a59b0ce9-4433-4bc2-9135-ee5a204ff209",
   "metadata": {},
   "source": [
    "# Create Time Table"
   ]
  },
  {
   "cell_type": "code",
   "execution_count": 11,
   "id": "43e1f1ca-b333-4ecd-9d61-11560e23d8f1",
   "metadata": {
    "execution": {
     "iopub.execute_input": "2022-09-27T11:38:22.128939Z",
     "iopub.status.busy": "2022-09-27T11:38:22.128191Z",
     "iopub.status.idle": "2022-09-27T11:38:22.357780Z",
     "shell.execute_reply": "2022-09-27T11:38:22.356916Z",
     "shell.execute_reply.started": "2022-09-27T11:38:22.128893Z"
    },
    "tags": []
   },
   "outputs": [
    {
     "data": {
      "application/vnd.jupyter.widget-view+json": {
       "model_id": "82abde64992a4ffeacd8ae96ee616324",
       "version_major": 2,
       "version_minor": 0
      },
      "text/plain": [
       "VBox()"
      ]
     },
     "metadata": {},
     "output_type": "display_data"
    },
    {
     "data": {
      "application/vnd.jupyter.widget-view+json": {
       "model_id": "",
       "version_major": 2,
       "version_minor": 0
      },
      "text/plain": [
       "FloatProgress(value=0.0, bar_style='info', description='Progress:', layout=Layout(height='25px', width='50%'),…"
      ]
     },
     "metadata": {},
     "output_type": "display_data"
    }
   ],
   "source": [
    "from pyspark.sql.types import DateType,TimestampType\n",
    "\n",
    "@udf(TimestampType())\n",
    "def get_timestamp(ts):\n",
    "    return datetime.fromtimestamp(ts/1000.0)\n",
    "\n",
    "@udf()\n",
    "def get_datetime(ts):\n",
    "    return datetime.fromtimestamp(ts/1000.0).strftime('%Y-%m-%d %H:%M:%S')"
   ]
  },
  {
   "cell_type": "code",
   "execution_count": 16,
   "id": "4953ec44-c2f5-4583-bfd0-7b37404fe000",
   "metadata": {
    "execution": {
     "iopub.execute_input": "2022-09-27T11:45:48.644771Z",
     "iopub.status.busy": "2022-09-27T11:45:48.644020Z",
     "iopub.status.idle": "2022-09-27T11:45:51.150105Z",
     "shell.execute_reply": "2022-09-27T11:45:51.149214Z",
     "shell.execute_reply.started": "2022-09-27T11:45:48.644737Z"
    },
    "tags": []
   },
   "outputs": [
    {
     "data": {
      "application/vnd.jupyter.widget-view+json": {
       "model_id": "5eb6f3910be047908b2603a3b5a979d6",
       "version_major": 2,
       "version_minor": 0
      },
      "text/plain": [
       "VBox()"
      ]
     },
     "metadata": {},
     "output_type": "display_data"
    },
    {
     "data": {
      "application/vnd.jupyter.widget-view+json": {
       "model_id": "",
       "version_major": 2,
       "version_minor": 0
      },
      "text/plain": [
       "FloatProgress(value=0.0, bar_style='info', description='Progress:', layout=Layout(height='25px', width='50%'),…"
      ]
     },
     "metadata": {},
     "output_type": "display_data"
    }
   ],
   "source": [
    "dfLog = spark.sql(\"\"\" SELECT * From stagingevents WHERE ts IS NOT NULL \"\"\")"
   ]
  },
  {
   "cell_type": "code",
   "execution_count": 17,
   "id": "37e6dbbe-3e71-46cb-96dc-b0403bcbc0a9",
   "metadata": {
    "execution": {
     "iopub.execute_input": "2022-09-27T11:46:08.216318Z",
     "iopub.status.busy": "2022-09-27T11:46:08.215565Z",
     "iopub.status.idle": "2022-09-27T11:46:23.930396Z",
     "shell.execute_reply": "2022-09-27T11:46:23.929458Z",
     "shell.execute_reply.started": "2022-09-27T11:46:08.216284Z"
    },
    "tags": []
   },
   "outputs": [
    {
     "data": {
      "application/vnd.jupyter.widget-view+json": {
       "model_id": "634c55a579c9463193d1b1a071f35362",
       "version_major": 2,
       "version_minor": 0
      },
      "text/plain": [
       "VBox()"
      ]
     },
     "metadata": {},
     "output_type": "display_data"
    },
    {
     "data": {
      "application/vnd.jupyter.widget-view+json": {
       "model_id": "",
       "version_major": 2,
       "version_minor": 0
      },
      "text/plain": [
       "FloatProgress(value=0.0, bar_style='info', description='Progress:', layout=Layout(height='25px', width='50%'),…"
      ]
     },
     "metadata": {},
     "output_type": "display_data"
    },
    {
     "name": "stdout",
     "output_type": "stream",
     "text": [
      "[Row(artist='Harmonia', auth='Logged In', firstName='Ryan', gender='M', itemInSession=0, lastName='Smith', length=655.77751, level='free', location='San Jose-Sunnyvale-Santa Clara, CA', method='PUT', page='NextSong', registration=1541016707796.0, sessionId=583, song='Sehr kosmisch', status=200, ts=1542241826796, userAgent='\"Mozilla/5.0 (X11; Linux x86_64) AppleWebKit/537.36 (KHTML, like Gecko) Ubuntu Chromium/36.0.1985.125 Chrome/36.0.1985.125 Safari/537.36\"', userId='26', timestamp=datetime.datetime(2018, 11, 15, 0, 30, 26, 796000), datetime='2018-11-15 00:30:26'), Row(artist='The Prodigy', auth='Logged In', firstName='Ryan', gender='M', itemInSession=1, lastName='Smith', length=260.07465, level='free', location='San Jose-Sunnyvale-Santa Clara, CA', method='PUT', page='NextSong', registration=1541016707796.0, sessionId=583, song='The Big Gundown', status=200, ts=1542242481796, userAgent='\"Mozilla/5.0 (X11; Linux x86_64) AppleWebKit/537.36 (KHTML, like Gecko) Ubuntu Chromium/36.0.1985.125 Chrome/36.0.1985.125 Safari/537.36\"', userId='26', timestamp=datetime.datetime(2018, 11, 15, 0, 41, 21, 796000), datetime='2018-11-15 00:41:21'), Row(artist='Train', auth='Logged In', firstName='Ryan', gender='M', itemInSession=2, lastName='Smith', length=205.45261, level='free', location='San Jose-Sunnyvale-Santa Clara, CA', method='PUT', page='NextSong', registration=1541016707796.0, sessionId=583, song='Marry Me', status=200, ts=1542242741796, userAgent='\"Mozilla/5.0 (X11; Linux x86_64) AppleWebKit/537.36 (KHTML, like Gecko) Ubuntu Chromium/36.0.1985.125 Chrome/36.0.1985.125 Safari/537.36\"', userId='26', timestamp=datetime.datetime(2018, 11, 15, 0, 45, 41, 796000), datetime='2018-11-15 00:45:41'), Row(artist=None, auth='Logged In', firstName='Wyatt', gender='M', itemInSession=0, lastName='Scott', length=None, level='free', location='Eureka-Arcata-Fortuna, CA', method='GET', page='Home', registration=1540872073796.0, sessionId=563, song=None, status=200, ts=1542247071796, userAgent='Mozilla/5.0 (Windows NT 6.1; WOW64; Trident/7.0; rv:11.0) like Gecko', userId='9', timestamp=datetime.datetime(2018, 11, 15, 1, 57, 51, 796000), datetime='2018-11-15 01:57:51'), Row(artist=None, auth='Logged In', firstName='Austin', gender='M', itemInSession=0, lastName='Rosales', length=None, level='free', location='New York-Newark-Jersey City, NY-NJ-PA', method='GET', page='Home', registration=1541059521796.0, sessionId=521, song=None, status=200, ts=1542252577796, userAgent='Mozilla/5.0 (Windows NT 6.1; rv:31.0) Gecko/20100101 Firefox/31.0', userId='12', timestamp=datetime.datetime(2018, 11, 15, 3, 29, 37, 796000), datetime='2018-11-15 03:29:37')]"
     ]
    }
   ],
   "source": [
    "# create timestamp column from original timestamp column\n",
    "# get_timestamp = udf()\n",
    "dfLog = dfLog.withColumn(\"timestamp\",get_timestamp(\"ts\"))\n",
    "dfLog.head(5)                   "
   ]
  },
  {
   "cell_type": "code",
   "execution_count": 18,
   "id": "d6db8f19-c361-475a-a19a-15980b099334",
   "metadata": {
    "execution": {
     "iopub.execute_input": "2022-09-27T11:46:32.888929Z",
     "iopub.status.busy": "2022-09-27T11:46:32.888211Z",
     "iopub.status.idle": "2022-09-27T11:46:33.148464Z",
     "shell.execute_reply": "2022-09-27T11:46:33.147556Z",
     "shell.execute_reply.started": "2022-09-27T11:46:32.888893Z"
    },
    "tags": []
   },
   "outputs": [
    {
     "data": {
      "application/vnd.jupyter.widget-view+json": {
       "model_id": "f9aed0bf834c4692a44045c1da9afe93",
       "version_major": 2,
       "version_minor": 0
      },
      "text/plain": [
       "VBox()"
      ]
     },
     "metadata": {},
     "output_type": "display_data"
    },
    {
     "data": {
      "application/vnd.jupyter.widget-view+json": {
       "model_id": "",
       "version_major": 2,
       "version_minor": 0
      },
      "text/plain": [
       "FloatProgress(value=0.0, bar_style='info', description='Progress:', layout=Layout(height='25px', width='50%'),…"
      ]
     },
     "metadata": {},
     "output_type": "display_data"
    },
    {
     "name": "stdout",
     "output_type": "stream",
     "text": [
      "root\n",
      " |-- artist: string (nullable = true)\n",
      " |-- auth: string (nullable = true)\n",
      " |-- firstName: string (nullable = true)\n",
      " |-- gender: string (nullable = true)\n",
      " |-- itemInSession: long (nullable = true)\n",
      " |-- lastName: string (nullable = true)\n",
      " |-- length: double (nullable = true)\n",
      " |-- level: string (nullable = true)\n",
      " |-- location: string (nullable = true)\n",
      " |-- method: string (nullable = true)\n",
      " |-- page: string (nullable = true)\n",
      " |-- registration: double (nullable = true)\n",
      " |-- sessionId: long (nullable = true)\n",
      " |-- song: string (nullable = true)\n",
      " |-- status: long (nullable = true)\n",
      " |-- ts: long (nullable = true)\n",
      " |-- userAgent: string (nullable = true)\n",
      " |-- userId: string (nullable = true)\n",
      " |-- timestamp: timestamp (nullable = true)\n",
      " |-- datetime: string (nullable = true)"
     ]
    }
   ],
   "source": [
    "dfLog.printSchema()"
   ]
  },
  {
   "cell_type": "code",
   "execution_count": 19,
   "id": "83f63b8d-21d5-4a25-9b0b-db794e7f4e34",
   "metadata": {
    "execution": {
     "iopub.execute_input": "2022-09-27T11:46:38.271045Z",
     "iopub.status.busy": "2022-09-27T11:46:38.268382Z",
     "iopub.status.idle": "2022-09-27T11:46:41.864488Z",
     "shell.execute_reply": "2022-09-27T11:46:41.863568Z",
     "shell.execute_reply.started": "2022-09-27T11:46:38.271009Z"
    },
    "tags": []
   },
   "outputs": [
    {
     "data": {
      "application/vnd.jupyter.widget-view+json": {
       "model_id": "33740c20cca94d90aab60c22a5bbd1e8",
       "version_major": 2,
       "version_minor": 0
      },
      "text/plain": [
       "VBox()"
      ]
     },
     "metadata": {},
     "output_type": "display_data"
    },
    {
     "data": {
      "application/vnd.jupyter.widget-view+json": {
       "model_id": "",
       "version_major": 2,
       "version_minor": 0
      },
      "text/plain": [
       "FloatProgress(value=0.0, bar_style='info', description='Progress:', layout=Layout(height='25px', width='50%'),…"
      ]
     },
     "metadata": {},
     "output_type": "display_data"
    },
    {
     "name": "stdout",
     "output_type": "stream",
     "text": [
      "[Row(artist='Harmonia', auth='Logged In', firstName='Ryan', gender='M', itemInSession=0, lastName='Smith', length=655.77751, level='free', location='San Jose-Sunnyvale-Santa Clara, CA', method='PUT', page='NextSong', registration=1541016707796.0, sessionId=583, song='Sehr kosmisch', status=200, ts=1542241826796, userAgent='\"Mozilla/5.0 (X11; Linux x86_64) AppleWebKit/537.36 (KHTML, like Gecko) Ubuntu Chromium/36.0.1985.125 Chrome/36.0.1985.125 Safari/537.36\"', userId='26', timestamp=datetime.datetime(2018, 11, 15, 0, 30, 26, 796000), datetime='2018-11-15 00:30:26'), Row(artist='The Prodigy', auth='Logged In', firstName='Ryan', gender='M', itemInSession=1, lastName='Smith', length=260.07465, level='free', location='San Jose-Sunnyvale-Santa Clara, CA', method='PUT', page='NextSong', registration=1541016707796.0, sessionId=583, song='The Big Gundown', status=200, ts=1542242481796, userAgent='\"Mozilla/5.0 (X11; Linux x86_64) AppleWebKit/537.36 (KHTML, like Gecko) Ubuntu Chromium/36.0.1985.125 Chrome/36.0.1985.125 Safari/537.36\"', userId='26', timestamp=datetime.datetime(2018, 11, 15, 0, 41, 21, 796000), datetime='2018-11-15 00:41:21'), Row(artist='Train', auth='Logged In', firstName='Ryan', gender='M', itemInSession=2, lastName='Smith', length=205.45261, level='free', location='San Jose-Sunnyvale-Santa Clara, CA', method='PUT', page='NextSong', registration=1541016707796.0, sessionId=583, song='Marry Me', status=200, ts=1542242741796, userAgent='\"Mozilla/5.0 (X11; Linux x86_64) AppleWebKit/537.36 (KHTML, like Gecko) Ubuntu Chromium/36.0.1985.125 Chrome/36.0.1985.125 Safari/537.36\"', userId='26', timestamp=datetime.datetime(2018, 11, 15, 0, 45, 41, 796000), datetime='2018-11-15 00:45:41'), Row(artist=None, auth='Logged In', firstName='Wyatt', gender='M', itemInSession=0, lastName='Scott', length=None, level='free', location='Eureka-Arcata-Fortuna, CA', method='GET', page='Home', registration=1540872073796.0, sessionId=563, song=None, status=200, ts=1542247071796, userAgent='Mozilla/5.0 (Windows NT 6.1; WOW64; Trident/7.0; rv:11.0) like Gecko', userId='9', timestamp=datetime.datetime(2018, 11, 15, 1, 57, 51, 796000), datetime='2018-11-15 01:57:51'), Row(artist=None, auth='Logged In', firstName='Austin', gender='M', itemInSession=0, lastName='Rosales', length=None, level='free', location='New York-Newark-Jersey City, NY-NJ-PA', method='GET', page='Home', registration=1541059521796.0, sessionId=521, song=None, status=200, ts=1542252577796, userAgent='Mozilla/5.0 (Windows NT 6.1; rv:31.0) Gecko/20100101 Firefox/31.0', userId='12', timestamp=datetime.datetime(2018, 11, 15, 3, 29, 37, 796000), datetime='2018-11-15 03:29:37')]"
     ]
    }
   ],
   "source": [
    "# get_datetime = udf()\n",
    "\n",
    "dfLog = dfLog.withColumn(\"datetime\",get_datetime(\"ts\"))\n",
    "dfLog.head(5)                   "
   ]
  },
  {
   "cell_type": "code",
   "execution_count": 20,
   "id": "ae091091-18c8-4d30-83e9-d7cb6bc1b1fb",
   "metadata": {
    "execution": {
     "iopub.execute_input": "2022-09-27T11:46:44.967961Z",
     "iopub.status.busy": "2022-09-27T11:46:44.967203Z",
     "iopub.status.idle": "2022-09-27T11:46:45.232720Z",
     "shell.execute_reply": "2022-09-27T11:46:45.231836Z",
     "shell.execute_reply.started": "2022-09-27T11:46:44.967926Z"
    },
    "tags": []
   },
   "outputs": [
    {
     "data": {
      "application/vnd.jupyter.widget-view+json": {
       "model_id": "4cdc60322ccc4842b24299ef53d300a2",
       "version_major": 2,
       "version_minor": 0
      },
      "text/plain": [
       "VBox()"
      ]
     },
     "metadata": {},
     "output_type": "display_data"
    },
    {
     "data": {
      "application/vnd.jupyter.widget-view+json": {
       "model_id": "",
       "version_major": 2,
       "version_minor": 0
      },
      "text/plain": [
       "FloatProgress(value=0.0, bar_style='info', description='Progress:', layout=Layout(height='25px', width='50%'),…"
      ]
     },
     "metadata": {},
     "output_type": "display_data"
    },
    {
     "name": "stdout",
     "output_type": "stream",
     "text": [
      "root\n",
      " |-- artist: string (nullable = true)\n",
      " |-- auth: string (nullable = true)\n",
      " |-- firstName: string (nullable = true)\n",
      " |-- gender: string (nullable = true)\n",
      " |-- itemInSession: long (nullable = true)\n",
      " |-- lastName: string (nullable = true)\n",
      " |-- length: double (nullable = true)\n",
      " |-- level: string (nullable = true)\n",
      " |-- location: string (nullable = true)\n",
      " |-- method: string (nullable = true)\n",
      " |-- page: string (nullable = true)\n",
      " |-- registration: double (nullable = true)\n",
      " |-- sessionId: long (nullable = true)\n",
      " |-- song: string (nullable = true)\n",
      " |-- status: long (nullable = true)\n",
      " |-- ts: long (nullable = true)\n",
      " |-- userAgent: string (nullable = true)\n",
      " |-- userId: string (nullable = true)\n",
      " |-- timestamp: timestamp (nullable = true)\n",
      " |-- datetime: string (nullable = true)"
     ]
    }
   ],
   "source": [
    "dfLog.printSchema()"
   ]
  },
  {
   "cell_type": "code",
   "execution_count": 21,
   "id": "ef6aa78b-5cab-4a5f-9049-c7de72fcdb9a",
   "metadata": {
    "execution": {
     "iopub.execute_input": "2022-09-27T11:46:53.530833Z",
     "iopub.status.busy": "2022-09-27T11:46:53.530111Z",
     "iopub.status.idle": "2022-09-27T11:46:53.798549Z",
     "shell.execute_reply": "2022-09-27T11:46:53.797654Z",
     "shell.execute_reply.started": "2022-09-27T11:46:53.530798Z"
    },
    "tags": []
   },
   "outputs": [
    {
     "data": {
      "application/vnd.jupyter.widget-view+json": {
       "model_id": "91ceb9761992410c91740887cf1bd751",
       "version_major": 2,
       "version_minor": 0
      },
      "text/plain": [
       "VBox()"
      ]
     },
     "metadata": {},
     "output_type": "display_data"
    },
    {
     "data": {
      "application/vnd.jupyter.widget-view+json": {
       "model_id": "",
       "version_major": 2,
       "version_minor": 0
      },
      "text/plain": [
       "FloatProgress(value=0.0, bar_style='info', description='Progress:', layout=Layout(height='25px', width='50%'),…"
      ]
     },
     "metadata": {},
     "output_type": "display_data"
    }
   ],
   "source": [
    "dfLog.createOrReplaceTempView(\"stagingevents\")"
   ]
  },
  {
   "cell_type": "code",
   "execution_count": 28,
   "id": "dfe22455-0cf1-4bb3-83b8-6931afae7cd8",
   "metadata": {
    "execution": {
     "iopub.execute_input": "2022-09-27T12:02:22.181215Z",
     "iopub.status.busy": "2022-09-27T12:02:22.180487Z",
     "iopub.status.idle": "2022-09-27T12:02:37.947234Z",
     "shell.execute_reply": "2022-09-27T12:02:37.946294Z",
     "shell.execute_reply.started": "2022-09-27T12:02:22.181180Z"
    },
    "tags": []
   },
   "outputs": [
    {
     "data": {
      "application/vnd.jupyter.widget-view+json": {
       "model_id": "85e18843cd0b4c9f8aabf947baf4bc54",
       "version_major": 2,
       "version_minor": 0
      },
      "text/plain": [
       "VBox()"
      ]
     },
     "metadata": {},
     "output_type": "display_data"
    },
    {
     "data": {
      "application/vnd.jupyter.widget-view+json": {
       "model_id": "",
       "version_major": 2,
       "version_minor": 0
      },
      "text/plain": [
       "FloatProgress(value=0.0, bar_style='info', description='Progress:', layout=Layout(height='25px', width='50%'),…"
      ]
     },
     "metadata": {},
     "output_type": "display_data"
    },
    {
     "name": "stdout",
     "output_type": "stream",
     "text": [
      "[Row(start_time='2018-11-15 07:28:47', hour=7, day=15, week=46, month=11, year=2018, weekday=3), Row(start_time='2018-11-15 16:49:50', hour=16, day=15, week=46, month=11, year=2018, weekday=3), Row(start_time='2018-11-15 17:46:01', hour=17, day=15, week=46, month=11, year=2018, weekday=3), Row(start_time='2018-11-21 07:53:00', hour=7, day=21, week=47, month=11, year=2018, weekday=2), Row(start_time='2018-11-14 18:35:36', hour=18, day=14, week=46, month=11, year=2018, weekday=2)]"
     ]
    }
   ],
   "source": [
    "time_table = spark.sql(\"\"\"SELECT  DISTINCT datetime as start_time,\n",
    "                                    hour ( timestamp) AS hour,\n",
    "                                    day ( timestamp) AS day,\n",
    "                                    weekofyear ( timestamp) AS week,\n",
    "                                    month ( timestamp) AS month,\n",
    "                                    year ( timestamp) AS year,\n",
    "                                    weekday ( timestamp) AS weekday\n",
    "                            FROM stagingevents\n",
    "                            WHERE page = 'NextSong'\n",
    "                        \"\"\")\n",
    "time_table.head(5)"
   ]
  },
  {
   "cell_type": "code",
   "execution_count": 29,
   "id": "d938e839-fc50-4f96-bf0d-c6feb6dba176",
   "metadata": {
    "execution": {
     "iopub.execute_input": "2022-09-27T12:04:19.080928Z",
     "iopub.status.busy": "2022-09-27T12:04:19.080220Z",
     "iopub.status.idle": "2022-09-27T12:04:19.338408Z",
     "shell.execute_reply": "2022-09-27T12:04:19.337471Z",
     "shell.execute_reply.started": "2022-09-27T12:04:19.080894Z"
    },
    "tags": []
   },
   "outputs": [
    {
     "data": {
      "application/vnd.jupyter.widget-view+json": {
       "model_id": "2e543133d0024febb7ee24335485b930",
       "version_major": 2,
       "version_minor": 0
      },
      "text/plain": [
       "VBox()"
      ]
     },
     "metadata": {},
     "output_type": "display_data"
    },
    {
     "data": {
      "application/vnd.jupyter.widget-view+json": {
       "model_id": "",
       "version_major": 2,
       "version_minor": 0
      },
      "text/plain": [
       "FloatProgress(value=0.0, bar_style='info', description='Progress:', layout=Layout(height='25px', width='50%'),…"
      ]
     },
     "metadata": {},
     "output_type": "display_data"
    },
    {
     "name": "stdout",
     "output_type": "stream",
     "text": [
      "root\n",
      " |-- start_time: string (nullable = true)\n",
      " |-- hour: integer (nullable = true)\n",
      " |-- day: integer (nullable = true)\n",
      " |-- week: integer (nullable = true)\n",
      " |-- month: integer (nullable = true)\n",
      " |-- year: integer (nullable = true)\n",
      " |-- weekday: integer (nullable = true)"
     ]
    }
   ],
   "source": [
    "time_table.printSchema()"
   ]
  },
  {
   "cell_type": "code",
   "execution_count": 30,
   "id": "66c26c3d-a1e9-4ab9-9538-d0a3cec254a5",
   "metadata": {
    "execution": {
     "iopub.execute_input": "2022-09-27T12:04:25.760522Z",
     "iopub.status.busy": "2022-09-27T12:04:25.760175Z",
     "iopub.status.idle": "2022-09-27T12:04:59.752864Z",
     "shell.execute_reply": "2022-09-27T12:04:59.752015Z",
     "shell.execute_reply.started": "2022-09-27T12:04:25.760489Z"
    },
    "tags": []
   },
   "outputs": [
    {
     "data": {
      "application/vnd.jupyter.widget-view+json": {
       "model_id": "0a25d24de84d40faa366e71b9efa87c1",
       "version_major": 2,
       "version_minor": 0
      },
      "text/plain": [
       "VBox()"
      ]
     },
     "metadata": {},
     "output_type": "display_data"
    },
    {
     "data": {
      "application/vnd.jupyter.widget-view+json": {
       "model_id": "",
       "version_major": 2,
       "version_minor": 0
      },
      "text/plain": [
       "FloatProgress(value=0.0, bar_style='info', description='Progress:', layout=Layout(height='25px', width='50%'),…"
      ]
     },
     "metadata": {},
     "output_type": "display_data"
    }
   ],
   "source": [
    "time_table.write.partitionBy(\"year\",\"month\").parquet(output_data + \"time.parquet\")"
   ]
  },
  {
   "cell_type": "markdown",
   "id": "6f5deb68-1ccc-4095-b58f-4ed7ee9033df",
   "metadata": {},
   "source": [
    "# Create Songplays Table"
   ]
  },
  {
   "cell_type": "code",
   "execution_count": 39,
   "id": "3178390b-ac69-45fc-840a-9636498adea3",
   "metadata": {
    "execution": {
     "iopub.execute_input": "2022-09-27T12:20:56.748549Z",
     "iopub.status.busy": "2022-09-27T12:20:56.747845Z",
     "iopub.status.idle": "2022-09-27T12:21:36.880356Z",
     "shell.execute_reply": "2022-09-27T12:21:36.879374Z",
     "shell.execute_reply.started": "2022-09-27T12:20:56.748514Z"
    },
    "tags": []
   },
   "outputs": [
    {
     "data": {
      "application/vnd.jupyter.widget-view+json": {
       "model_id": "db1638418e1a4e90a7b479e69bb9eac3",
       "version_major": 2,
       "version_minor": 0
      },
      "text/plain": [
       "VBox()"
      ]
     },
     "metadata": {},
     "output_type": "display_data"
    },
    {
     "data": {
      "application/vnd.jupyter.widget-view+json": {
       "model_id": "",
       "version_major": 2,
       "version_minor": 0
      },
      "text/plain": [
       "FloatProgress(value=0.0, bar_style='info', description='Progress:', layout=Layout(height='25px', width='50%'),…"
      ]
     },
     "metadata": {},
     "output_type": "display_data"
    },
    {
     "name": "stdout",
     "output_type": "stream",
     "text": [
      "[Row(songplay_id=8589934592, start_time=datetime.datetime(2018, 11, 21, 8, 25, 43, 796000), month=11, year=2018, user_id='88', level='paid', song_id='SOCHPTV12A6BD53113', artist_id='ARN8NCB1187FB49652', session_id=744, location='Sacramento--Roseville--Arden-Arcade, CA', user_agent='\"Mozilla/5.0 (Macintosh; Intel Mac OS X 10_9_4) AppleWebKit/537.36 (KHTML, like Gecko) Chrome/36.0.1985.143 Safari/537.36\"'), Row(songplay_id=25769803776, start_time=datetime.datetime(2018, 11, 29, 16, 58, 1, 796000), month=11, year=2018, user_id='49', level='paid', song_id='SOGXSWA12A6D4FBC99', artist_id='ARPFHN61187FB575F6', session_id=1041, location='San Francisco-Oakland-Hayward, CA', user_agent='Mozilla/5.0 (Windows NT 5.1; rv:31.0) Gecko/20100101 Firefox/31.0'), Row(songplay_id=34359738368, start_time=datetime.datetime(2018, 11, 28, 8, 18, 57, 796000), month=11, year=2018, user_id='58', level='paid', song_id='SOJWCWM12A8C13B664', artist_id='ARM6T8I1187FB36CC8', session_id=887, location='Augusta-Richmond County, GA-SC', user_agent='\"Mozilla/5.0 (Windows NT 6.3; WOW64) AppleWebKit/537.36 (KHTML, like Gecko) Chrome/36.0.1985.125 Safari/537.36\"'), Row(songplay_id=34359738369, start_time=datetime.datetime(2018, 11, 28, 23, 34, 43, 796000), month=11, year=2018, user_id='24', level='paid', song_id='SOHRHCN12AB018B0F4', artist_id='ARHQBRZ1187FB3BDA2', session_id=984, location='Lake Havasu City-Kingman, AZ', user_agent='\"Mozilla/5.0 (Windows NT 6.1; WOW64) AppleWebKit/537.36 (KHTML, like Gecko) Chrome/36.0.1985.125 Safari/537.36\"'), Row(songplay_id=68719476736, start_time=datetime.datetime(2018, 11, 26, 15, 37, 14, 796000), month=11, year=2018, user_id='88', level='paid', song_id='SOARTQC12A58A77F0C', artist_id='ARCE0IX1187FB528B4', session_id=900, location='Sacramento--Roseville--Arden-Arcade, CA', user_agent='\"Mozilla/5.0 (Macintosh; Intel Mac OS X 10_9_4) AppleWebKit/537.36 (KHTML, like Gecko) Chrome/36.0.1985.143 Safari/537.36\"')]"
     ]
    }
   ],
   "source": [
    "from pyspark.sql.functions import monotonically_increasing_id\n",
    "songplays_table = spark.sql(\"\"\"\n",
    "                            SELECT  monotonically_increasing_id() AS songplay_id,\n",
    "                                    ste.timestamp AS start_time,\n",
    "                                    month ( timestamp) AS month,\n",
    "                                    year ( timestamp) AS year,\n",
    "                                    ste.userId AS user_id,\n",
    "                                    ste.level AS level,\n",
    "                                    sts.song_id AS song_id, \n",
    "                                    sts.artist_id AS artist_id,\n",
    "                                    ste.sessionId AS session_id,\n",
    "                                    ste.location AS location,\n",
    "                                    ste.userAgent AS user_agent\n",
    "                            FROM stagingevents ste\n",
    "                            JOIN stagingsongs sts\n",
    "                            ON sts.title = ste.song \n",
    "                            AND sts.artist_name = ste.artist  \n",
    "                            AND sts.duration = ste.length\n",
    "                            WHERE ste.page = 'NextSong'  \n",
    "\"\"\")\n",
    "\n",
    "songplays_table.head(5)"
   ]
  },
  {
   "cell_type": "code",
   "execution_count": 40,
   "id": "8111be95-d99f-4d33-af4d-d95b3cc27a06",
   "metadata": {
    "execution": {
     "iopub.execute_input": "2022-09-27T12:21:40.870568Z",
     "iopub.status.busy": "2022-09-27T12:21:40.870232Z",
     "iopub.status.idle": "2022-09-27T12:21:41.132217Z",
     "shell.execute_reply": "2022-09-27T12:21:41.131298Z",
     "shell.execute_reply.started": "2022-09-27T12:21:40.870536Z"
    },
    "tags": []
   },
   "outputs": [
    {
     "data": {
      "application/vnd.jupyter.widget-view+json": {
       "model_id": "570400ac47914fe5ac9186ccc5814d64",
       "version_major": 2,
       "version_minor": 0
      },
      "text/plain": [
       "VBox()"
      ]
     },
     "metadata": {},
     "output_type": "display_data"
    },
    {
     "data": {
      "application/vnd.jupyter.widget-view+json": {
       "model_id": "",
       "version_major": 2,
       "version_minor": 0
      },
      "text/plain": [
       "FloatProgress(value=0.0, bar_style='info', description='Progress:', layout=Layout(height='25px', width='50%'),…"
      ]
     },
     "metadata": {},
     "output_type": "display_data"
    },
    {
     "name": "stdout",
     "output_type": "stream",
     "text": [
      "root\n",
      " |-- songplay_id: long (nullable = false)\n",
      " |-- start_time: timestamp (nullable = true)\n",
      " |-- month: integer (nullable = true)\n",
      " |-- year: integer (nullable = true)\n",
      " |-- user_id: string (nullable = true)\n",
      " |-- level: string (nullable = true)\n",
      " |-- song_id: string (nullable = true)\n",
      " |-- artist_id: string (nullable = true)\n",
      " |-- session_id: long (nullable = true)\n",
      " |-- location: string (nullable = true)\n",
      " |-- user_agent: string (nullable = true)"
     ]
    }
   ],
   "source": [
    "songplays_table.printSchema()"
   ]
  },
  {
   "cell_type": "code",
   "execution_count": 41,
   "id": "eb65119b-34e1-49f0-82d0-db33a2f9596d",
   "metadata": {
    "execution": {
     "iopub.execute_input": "2022-09-27T12:21:45.762866Z",
     "iopub.status.busy": "2022-09-27T12:21:45.762159Z",
     "iopub.status.idle": "2022-09-27T12:27:46.204286Z",
     "shell.execute_reply": "2022-09-27T12:27:46.203351Z",
     "shell.execute_reply.started": "2022-09-27T12:21:45.762831Z"
    },
    "tags": []
   },
   "outputs": [
    {
     "data": {
      "application/vnd.jupyter.widget-view+json": {
       "model_id": "9d938a5bf6fc48469a29e289949c7781",
       "version_major": 2,
       "version_minor": 0
      },
      "text/plain": [
       "VBox()"
      ]
     },
     "metadata": {},
     "output_type": "display_data"
    },
    {
     "data": {
      "application/vnd.jupyter.widget-view+json": {
       "model_id": "",
       "version_major": 2,
       "version_minor": 0
      },
      "text/plain": [
       "FloatProgress(value=0.0, bar_style='info', description='Progress:', layout=Layout(height='25px', width='50%'),…"
      ]
     },
     "metadata": {},
     "output_type": "display_data"
    }
   ],
   "source": [
    "songplays_table.write.partitionBy(\"year\",\"month\").parquet(output_data + \"songplays.parquet\")"
   ]
  },
  {
   "cell_type": "code",
   "execution_count": null,
   "id": "096ddfdc-ef37-4f8f-bfa8-679b04b93b4d",
   "metadata": {
    "tags": []
   },
   "outputs": [],
   "source": []
  }
 ],
 "metadata": {
  "kernelspec": {
   "display_name": "Python 3.9.1 64-bit",
   "language": "python",
   "name": "python3"
  },
  "language_info": {
   "codemirror_mode": {
    "name": "python",
    "version": 2
   },
   "mimetype": "text/x-python",
   "name": "python",
   "pygments_lexer": "python2",
   "version": "3.9.1"
  },
  "vscode": {
   "interpreter": {
    "hash": "5eb90fbf8b66ac67c6ef8fa54eb3894c487cb375fb4b1c0bc8fba0eeeec793e8"
   }
  }
 },
 "nbformat": 4,
 "nbformat_minor": 5
}
